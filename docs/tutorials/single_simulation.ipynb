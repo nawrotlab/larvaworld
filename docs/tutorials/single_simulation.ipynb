{
 "cells": [
  {
   "cell_type": "markdown",
   "metadata": {},
   "source": [
    "## Single simulation\n",
    "\n",
    "In this tutorial, we will demonstrate how to launch a single virtual experiment. This is the default simulation mode in larvaworld and forms the backbone for evry other more complex mode.\n",
    "\n",
    "There are several preconfigured experiments available that can be launched instantly. We will have a look on them too.\n",
    "\n",
    "Let's import the relevant classes :"
   ]
  },
  {
   "cell_type": "code",
   "execution_count": null,
   "metadata": {},
   "outputs": [],
   "source": [
    "%load_ext param.ipython\n",
    "import panel as pn\n",
    "\n",
    "import larvaworld as lw\n",
    "from larvaworld.lib import reg\n",
    "from larvaworld.lib.sim.single_run import ExpRun\n",
    "from larvaworld.lib.reg.generators import ExpConf\n",
    "\n",
    "# Setting the verbosity level to 0 to get more information\n",
    "lw.VERBOSE = 1"
   ]
  },
  {
   "cell_type": "markdown",
   "metadata": {},
   "source": [
    "A look at the Exp configuration class makes it easy to get an idea of the involved arguments:\n",
    "\n",
    "- General simulation arguments (duration, timestep etc)\n",
    "- Environment configuration\n",
    "- Parameters to be recorded from agents and their post-simulation analysis \n",
    "- Larva groups \n",
    "  \n",
    "BTW one of the preconfigured experiments can be called via the *experiment* argument."
   ]
  },
  {
   "cell_type": "code",
   "execution_count": null,
   "metadata": {},
   "outputs": [],
   "source": [
    "# Show the attributes of the ExpConf class\n",
    "%params ExpConf\n",
    "\n",
    "# Show the attributes of the ExpConf class as a nested dictionary\n",
    "ExpConf.param"
   ]
  },
  {
   "cell_type": "markdown",
   "metadata": {},
   "source": [
    "The preconfigured experiment configurations can be inspected and selected by a unique ID"
   ]
  },
  {
   "cell_type": "code",
   "execution_count": null,
   "metadata": {},
   "outputs": [],
   "source": [
    "ids = reg.conf.Exp.confIDs\n",
    "print(ids)"
   ]
  },
  {
   "cell_type": "code",
   "execution_count": null,
   "metadata": {},
   "outputs": [],
   "source": [
    "conf = reg.conf.Exp.getID(\"chemorbit\")\n",
    "print(conf.keylist)\n",
    "print(conf)"
   ]
  },
  {
   "cell_type": "markdown",
   "metadata": {},
   "source": [
    "The simulation launcher accepts also several runtype arguments :"
   ]
  },
  {
   "cell_type": "code",
   "execution_count": null,
   "metadata": {},
   "outputs": [],
   "source": [
    "# Show the attributes of the ExpRun class\n",
    "%params ExpRun\n",
    "\n",
    "# Show the attributes of the ExpRun class as a nested dictionary\n",
    "ExpRun.param"
   ]
  },
  {
   "cell_type": "markdown",
   "metadata": {},
   "source": [
    "A single simulation of a stored experiment configuration can be launched by passing the respective ID to the launcher. "
   ]
  },
  {
   "cell_type": "code",
   "execution_count": null,
   "metadata": {},
   "outputs": [],
   "source": [
    "id = \"chemorbit\"\n",
    "\n",
    "# First option\n",
    "r = ExpRun.from_ID(id, N=5)"
   ]
  },
  {
   "cell_type": "code",
   "execution_count": null,
   "metadata": {},
   "outputs": [],
   "source": [
    "# Second option\n",
    "r = ExpRun(experiment=id)\n",
    "r.simulate()"
   ]
  },
  {
   "cell_type": "markdown",
   "metadata": {},
   "source": [
    "Now that the simulated datasets have been generated they can be analyzed to produce figures. \n",
    "\n",
    "The analysis is predefined and experiment-specific.\n",
    "\n",
    "We can inspect the registered plots and proceed to analysis"
   ]
  },
  {
   "cell_type": "code",
   "execution_count": null,
   "metadata": {},
   "outputs": [],
   "source": [
    "r.graphgroups"
   ]
  },
  {
   "cell_type": "code",
   "execution_count": null,
   "metadata": {},
   "outputs": [],
   "source": [
    "r.analyze()"
   ]
  },
  {
   "cell_type": "code",
   "execution_count": null,
   "metadata": {},
   "outputs": [],
   "source": []
  }
 ],
 "metadata": {
  "kernelspec": {
   "display_name": "larvaworld_autoversioning",
   "language": "python",
   "name": "python3"
  },
  "language_info": {
   "codemirror_mode": {
    "name": "ipython",
    "version": 3
   },
   "file_extension": ".py",
   "mimetype": "text/x-python",
   "name": "python",
   "nbconvert_exporter": "python",
   "pygments_lexer": "ipython3",
   "version": "3.8.13"
  }
 },
 "nbformat": 4,
 "nbformat_minor": 2
}
