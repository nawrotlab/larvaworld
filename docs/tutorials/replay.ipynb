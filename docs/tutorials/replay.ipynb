{
 "cells": [
  {
   "cell_type": "markdown",
   "metadata": {},
   "source": [
    "# Replaying experiments\n",
    "\n",
    "In this tutorial, we will demonstrate how to reconstruct and visualize previous experiments from stored data. \n",
    "\n",
    "Let's import the relevant classes :"
   ]
  },
  {
   "cell_type": "code",
   "execution_count": 1,
   "metadata": {},
   "outputs": [
    {
     "name": "stdout",
     "output_type": "stream",
     "text": [
      "Welcome to the param IPython extension! (https://param.holoviz.org/)\n",
      "Available magics: %params\n",
      "Initializing larvaworld registry\n",
      "Registry configured!\n"
     ]
    }
   ],
   "source": [
    "%load_ext param.ipython\n",
    "import panel as pn\n",
    "\n",
    "import larvaworld\n",
    "from larvaworld.lib import reg, util\n",
    "\n",
    "# Import the simulation class\n",
    "from larvaworld.lib.sim import ReplayRun\n",
    "\n",
    "# Import the configuration classes\n",
    "from larvaworld.lib.reg.generators import ReplayConf, ReplayConfUnit, ReplayConfGroup\n",
    "\n",
    "larvaworld.VERBOSE = 1"
   ]
  },
  {
   "cell_type": "markdown",
   "metadata": {},
   "source": [
    "The configuration parameters passed to the simulation class are managed by three classes :\n",
    "\n",
    "- ReplayConfGroup : group-level parameters\n",
    "- ReplayConfUnit : agent-level parameters\n",
    "- ReplayConf : all parameters (including the above)"
   ]
  },
  {
   "cell_type": "code",
   "execution_count": 2,
   "metadata": {},
   "outputs": [
    {
     "data": {
      "text/html": [
       "<style>\n",
       ".param-doc-tooltip{\n",
       "  position: relative;\n",
       "  cursor: help;\n",
       "}\n",
       ".param-doc-tooltip:hover:after{\n",
       "  content: attr(data-tooltip);\n",
       "  background-color: black;\n",
       "  color: #fff;\n",
       "  border-radius: 3px;\n",
       "  padding: 10px;\n",
       "  position: absolute;\n",
       "  z-index: 1;\n",
       "  top: -5px;\n",
       "  left: 100%;\n",
       "  margin-left: 10px;\n",
       "  min-width: 250px;\n",
       "}\n",
       ".param-doc-tooltip:hover:before {\n",
       "  content: \"\";\n",
       "  position: absolute;\n",
       "  top: 50%;\n",
       "  left: 100%;\n",
       "  margin-top: -5px;\n",
       "  border-width: 5px;\n",
       "  border-style: solid;\n",
       "  border-color: transparent black transparent transparent;\n",
       "}\n",
       "</style>\n",
       "<details  open>\n",
       " <summary style=\"display:list-item; outline:none;\">\n",
       "  <tt>ReplayConfGroup</tt>\n",
       " </summary>\n",
       " <div style=\"padding-left:10px; padding-bottom:5px;\">\n",
       "  <table style=\"max-width:100%; border:1px solid #AAAAAA;\">\n",
       "   <tr><th style=\"text-align:left;\">Name</th><th style=\"text-align:left;\">Default</th><th style=\"text-align:left;\">Type</th><th>Range</th></tr>\n",
       "<tr>  <td><p style=\"margin-bottom: 0px;\" class=\"param-doc-tooltip\" data-tooltip=\"Whether to only display some larvae of the dataset, defined by their indexes.\">agent_ids</p></td>  <td style=\"max-width: 200px; text-align:left;\">[]</td>  <td style=\"text-align:left;\">List</td>  <td style=\"max-width: 300px;\">(0, None)</td></tr>\n",
       "<tr>  <td><p style=\"margin-bottom: 0px;\" class=\"param-doc-tooltip\" data-tooltip=\"Selection among stored Env configurations by ID\">env_params</p></td>  <td style=\"max-width: 200px; text-align:left;\">None</td>  <td style=\"text-align:left;\">OptionalSelector</td>  <td style=\"max-width: 300px;\"><i>nullable</i> '4corners', 'CS_UCS_off_food', 'CS_UCS_on_food', 'CS_UCS_on_food_x2', 'arena_1000mm', 'arena_200mm', 'arena_500mm', 'arena_50mm_diffusion', 'dish', 'dish_40mm', 'double_patch', 'focus', 'food_at_bottom', 'food_grid', 'game', 'maze', 'mid_odor_diffusion', 'mid_odor_gaussian', 'multi_patch', 'odor_gaussian_square', 'odor_gradient', 'patch_grid', 'patchy_food', 'puff_arena_bordered', 'random_food', 'single_odor_patch', 'single_patch', 'single_puff', 'thermo_arena', 'uniform_food', 'windy_arena', 'windy_arena_bordered', 'windy_blob_arena'</td></tr>\n",
       "<tr>  <td><p style=\"margin-bottom: 0px;\" class=\"param-doc-tooltip\" data-tooltip=\"String identifier for this object.\">name</p></td>  <td style=\"max-width: 200px; text-align:left;\">&#x27;ReplayConfGroup&#x27;</td>  <td style=\"text-align:left;\">String</td>  <td style=\"max-width: 300px;\"><i>nullable</i> <i>constant</i></td></tr>\n",
       "<tr>  <td><p style=\"margin-bottom: 0px;\" class=\"param-doc-tooltip\" data-tooltip=\"The midline point to use for defining the larva position.\">track_point</p></td>  <td style=\"max-width: 200px; text-align:left;\">-1</td>  <td style=\"text-align:left;\">Integer</td>  <td style=\"max-width: 300px;\"></td></tr>\n",
       "<tr>  <td><p style=\"margin-bottom: 0px;\" class=\"param-doc-tooltip\" data-tooltip=\"Whether to transpose the dataset spatial coordinates.\">transposition</p></td>  <td style=\"max-width: 200px; text-align:left;\">None</td>  <td style=\"text-align:left;\">OptionalSelector</td>  <td style=\"max-width: 300px;\"><i>nullable</i> 'origin', 'arena', 'center'</td></tr>\n",
       "\n",
       "  </table>\n",
       " </div>\n",
       "</details>\n"
      ],
      "text/plain": [
       "<param.parameterized.Parameters at 0x7f92f914ee50>"
      ]
     },
     "execution_count": 2,
     "metadata": {},
     "output_type": "execute_result"
    },
    {
     "name": "stdout",
     "output_type": "stream",
     "text": [
      "\u001b[1;32mParameters of 'ReplayConfGroup'\n",
      "===============================\n",
      "\u001b[0m\n",
      "\u001b[1;31mParameters changed from their default values are marked in red.\u001b[0m\n",
      "\u001b[1;36mSoft bound values are marked in cyan.\u001b[0m\n",
      "C/V= Constant/Variable, RO/RW = ReadOnly/ReadWrite, AN=Allow None\n",
      "\n",
      "\u001b[1;34mName           Value        Type          Bounds     Mode  \u001b[0m\n",
      "\n",
      "agent_ids        []         List        (0, None)    V RW  \n",
      "transposition   None  OptionalSelector             V RW AN \n",
      "track_point      -1       Integer        (\u001b[1;36m-1\u001b[0m,\u001b[1;36m 12\u001b[0m)    V RW  \n",
      "env_params      None  OptionalSelector             V RW AN \n",
      "\n",
      "\u001b[1;32mParameter docstrings:\n",
      "=====================\u001b[0m\n",
      "\n",
      "\u001b[1;34magent_ids:     Whether to only display some larvae of the dataset, defined by their indexes.\u001b[0m\n",
      "\u001b[1;31mtransposition: Whether to transpose the dataset spatial coordinates.\u001b[0m\n",
      "\u001b[1;34mtrack_point:   The midline point to use for defining the larva position.\u001b[0m\n",
      "\u001b[1;31menv_params:    Selection among stored Env configurations by ID\u001b[0m"
     ]
    }
   ],
   "source": [
    "# Show the attributes of the ReplayConfGroup class\n",
    "%params ReplayConfGroup\n",
    "\n",
    "# Show the attributes of the ReplayConfGroup class as a nested dictionary\n",
    "ReplayConfGroup.param"
   ]
  },
  {
   "cell_type": "code",
   "execution_count": 3,
   "metadata": {},
   "outputs": [
    {
     "data": {
      "text/html": [
       "<style>\n",
       ".param-doc-tooltip{\n",
       "  position: relative;\n",
       "  cursor: help;\n",
       "}\n",
       ".param-doc-tooltip:hover:after{\n",
       "  content: attr(data-tooltip);\n",
       "  background-color: black;\n",
       "  color: #fff;\n",
       "  border-radius: 3px;\n",
       "  padding: 10px;\n",
       "  position: absolute;\n",
       "  z-index: 1;\n",
       "  top: -5px;\n",
       "  left: 100%;\n",
       "  margin-left: 10px;\n",
       "  min-width: 250px;\n",
       "}\n",
       ".param-doc-tooltip:hover:before {\n",
       "  content: \"\";\n",
       "  position: absolute;\n",
       "  top: 50%;\n",
       "  left: 100%;\n",
       "  margin-top: -5px;\n",
       "  border-width: 5px;\n",
       "  border-style: solid;\n",
       "  border-color: transparent black transparent transparent;\n",
       "}\n",
       "</style>\n",
       "<details  open>\n",
       " <summary style=\"display:list-item; outline:none;\">\n",
       "  <tt>ReplayConfUnit</tt>\n",
       " </summary>\n",
       " <div style=\"padding-left:10px; padding-bottom:5px;\">\n",
       "  <table style=\"max-width:100%; border:1px solid #AAAAAA;\">\n",
       "   <tr><th style=\"text-align:left;\">Name</th><th style=\"text-align:left;\">Default</th><th style=\"text-align:left;\">Type</th><th>Range</th></tr>\n",
       "<tr>  <td><p style=\"margin-bottom: 0px;\" class=\"param-doc-tooltip\" data-tooltip=\"Whether to visualize a small arena on close range.\">close_view</p></td>  <td style=\"max-width: 200px; text-align:left;\">False</td>  <td style=\"text-align:left;\">Boolean</td>  <td style=\"max-width: 300px;\"></td></tr>\n",
       "<tr>  <td><p style=\"margin-bottom: 0px;\" class=\"param-doc-tooltip\" data-tooltip=\"Whether to fixate a specific midline point to the center of the screen. Relevant when replaying a single larva track.\">fix_point</p></td>  <td style=\"max-width: 200px; text-align:left;\">None</td>  <td style=\"text-align:left;\">OptionalPositiveInteger</td>  <td style=\"max-width: 300px;\"><i>nullable</i> >=0</td></tr>\n",
       "<tr>  <td><p style=\"margin-bottom: 0px;\" class=\"param-doc-tooltip\" data-tooltip=\"Whether to additionally fixate the above or below body segment.\">fix_segment</p></td>  <td style=\"max-width: 200px; text-align:left;\">None</td>  <td style=\"text-align:left;\">OptionalSelector</td>  <td style=\"max-width: 300px;\"><i>nullable</i> 'rear', 'front'</td></tr>\n",
       "<tr>  <td><p style=\"margin-bottom: 0px;\" class=\"param-doc-tooltip\" data-tooltip=\"String identifier for this object.\">name</p></td>  <td style=\"max-width: 200px; text-align:left;\">&#x27;ReplayConfUnit&#x27;</td>  <td style=\"text-align:left;\">String</td>  <td style=\"max-width: 300px;\"><i>nullable</i> <i>constant</i></td></tr>\n",
       "\n",
       "  </table>\n",
       " </div>\n",
       "</details>\n"
      ],
      "text/plain": [
       "<param.parameterized.Parameters at 0x7f92f914e0d0>"
      ]
     },
     "execution_count": 3,
     "metadata": {},
     "output_type": "execute_result"
    },
    {
     "name": "stdout",
     "output_type": "stream",
     "text": [
      "\u001b[1;32mParameters of 'ReplayConfUnit'\n",
      "==============================\n",
      "\u001b[0m\n",
      "\u001b[1;31mParameters changed from their default values are marked in red.\u001b[0m\n",
      "\u001b[1;36mSoft bound values are marked in cyan.\u001b[0m\n",
      "C/V= Constant/Variable, RO/RW = ReadOnly/ReadWrite, AN=Allow None\n",
      "\n",
      "\u001b[1;34mName          Value            Type            Bounds    Mode  \u001b[0m\n",
      "\n",
      "close_view    False          Boolean                     V RW  \n",
      "fix_segment    None      OptionalSelector              V RW AN \n",
      "fix_point      None  OptionalPositiveInteger  (0,\u001b[1;36m 12\u001b[0m)  V RW AN \n",
      "\n",
      "\u001b[1;32mParameter docstrings:\n",
      "=====================\u001b[0m\n",
      "\n",
      "\u001b[1;34mclose_view:  Whether to visualize a small arena on close range.\u001b[0m\n",
      "\u001b[1;31mfix_segment: Whether to additionally fixate the above or below body segment.\u001b[0m\n",
      "\u001b[1;34mfix_point:   Whether to fixate a specific midline point to the center of the screen. Relevant when replaying a single larva track.\u001b[0m"
     ]
    }
   ],
   "source": [
    "# Show the attributes of the ReplayConfUnit class\n",
    "%params ReplayConfUnit\n",
    "\n",
    "# Show the attributes of the ReplayConfUnit class as a nested dictionary\n",
    "ReplayConfUnit.param"
   ]
  },
  {
   "cell_type": "code",
   "execution_count": 4,
   "metadata": {},
   "outputs": [
    {
     "data": {
      "text/html": [
       "<style>\n",
       ".param-doc-tooltip{\n",
       "  position: relative;\n",
       "  cursor: help;\n",
       "}\n",
       ".param-doc-tooltip:hover:after{\n",
       "  content: attr(data-tooltip);\n",
       "  background-color: black;\n",
       "  color: #fff;\n",
       "  border-radius: 3px;\n",
       "  padding: 10px;\n",
       "  position: absolute;\n",
       "  z-index: 1;\n",
       "  top: -5px;\n",
       "  left: 100%;\n",
       "  margin-left: 10px;\n",
       "  min-width: 250px;\n",
       "}\n",
       ".param-doc-tooltip:hover:before {\n",
       "  content: \"\";\n",
       "  position: absolute;\n",
       "  top: 50%;\n",
       "  left: 100%;\n",
       "  margin-top: -5px;\n",
       "  border-width: 5px;\n",
       "  border-style: solid;\n",
       "  border-color: transparent black transparent transparent;\n",
       "}\n",
       "</style>\n",
       "<details  open>\n",
       " <summary style=\"display:list-item; outline:none;\">\n",
       "  <tt>ReplayConf</tt>\n",
       " </summary>\n",
       " <div style=\"padding-left:10px; padding-bottom:5px;\">\n",
       "  <table style=\"max-width:100%; border:1px solid #AAAAAA;\">\n",
       "   <tr><th style=\"text-align:left;\">Name</th><th style=\"text-align:left;\">Default</th><th style=\"text-align:left;\">Type</th><th>Range</th></tr>\n",
       "<tr>  <td><p style=\"margin-bottom: 0px;\" class=\"param-doc-tooltip\" data-tooltip=\"Whether to only display some larvae of the dataset, defined by their indexes.\">agent_ids</p></td>  <td style=\"max-width: 200px; text-align:left;\">[]</td>  <td style=\"text-align:left;\">List</td>  <td style=\"max-width: 300px;\">(0, None)</td></tr>\n",
       "<tr>  <td><p style=\"margin-bottom: 0px;\" class=\"param-doc-tooltip\" data-tooltip=\"Whether to visualize a small arena on close range.\">close_view</p></td>  <td style=\"max-width: 200px; text-align:left;\">False</td>  <td style=\"text-align:left;\">Boolean</td>  <td style=\"max-width: 300px;\"></td></tr>\n",
       "<tr>  <td><p style=\"margin-bottom: 0px;\" class=\"param-doc-tooltip\" data-tooltip=\"Whether to artificially simplify the experimentally tracked larva body to a segmented virtual body of the given number of segments.\">draw_Nsegs</p></td>  <td style=\"max-width: 200px; text-align:left;\">None</td>  <td style=\"text-align:left;\">OptionalPositiveInteger</td>  <td style=\"max-width: 300px;\"><i>nullable</i> >=0</td></tr>\n",
       "<tr>  <td><p style=\"margin-bottom: 0px;\" class=\"param-doc-tooltip\" data-tooltip=\"Selection among stored Env configurations by ID\">env_params</p></td>  <td style=\"max-width: 200px; text-align:left;\">None</td>  <td style=\"text-align:left;\">OptionalSelector</td>  <td style=\"max-width: 300px;\"><i>nullable</i> '4corners', 'CS_UCS_off_food', 'CS_UCS_on_food', 'CS_UCS_on_food_x2', 'arena_1000mm', 'arena_200mm', 'arena_500mm', 'arena_50mm_diffusion', 'dish', 'dish_40mm', 'double_patch', 'focus', 'food_at_bottom', 'food_grid', 'game', 'maze', 'mid_odor_diffusion', 'mid_odor_gaussian', 'multi_patch', 'odor_gaussian_square', 'odor_gradient', 'patch_grid', 'patchy_food', 'puff_arena_bordered', 'random_food', 'single_odor_patch', 'single_patch', 'single_puff', 'thermo_arena', 'uniform_food', 'windy_arena', 'windy_arena_bordered', 'windy_blob_arena'</td></tr>\n",
       "<tr>  <td><p style=\"margin-bottom: 0px;\" class=\"param-doc-tooltip\" data-tooltip=\"Whether to fixate a specific midline point to the center of the screen. Relevant when replaying a single larva track.\">fix_point</p></td>  <td style=\"max-width: 200px; text-align:left;\">None</td>  <td style=\"text-align:left;\">OptionalPositiveInteger</td>  <td style=\"max-width: 300px;\"><i>nullable</i> >=0</td></tr>\n",
       "<tr>  <td><p style=\"margin-bottom: 0px;\" class=\"param-doc-tooltip\" data-tooltip=\"Whether to additionally fixate the above or below body segment.\">fix_segment</p></td>  <td style=\"max-width: 200px; text-align:left;\">None</td>  <td style=\"text-align:left;\">OptionalSelector</td>  <td style=\"max-width: 300px;\"><i>nullable</i> 'rear', 'front'</td></tr>\n",
       "<tr>  <td><p style=\"margin-bottom: 0px;\" class=\"param-doc-tooltip\" data-tooltip=\"String identifier for this object.\">name</p></td>  <td style=\"max-width: 200px; text-align:left;\">&#x27;ReplayConf&#x27;</td>  <td style=\"text-align:left;\">String</td>  <td style=\"max-width: 300px;\"><i>nullable</i> <i>constant</i></td></tr>\n",
       "<tr>  <td><p style=\"margin-bottom: 0px;\" class=\"param-doc-tooltip\" data-tooltip=\"Whether to draw overlapped image of the track.\">overlap_mode</p></td>  <td style=\"max-width: 200px; text-align:left;\">False</td>  <td style=\"text-align:left;\">Boolean</td>  <td style=\"max-width: 300px;\"></td></tr>\n",
       "<tr>  <td><p style=\"margin-bottom: 0px;\">refDir</p></td>  <td style=\"max-width: 200px; text-align:left;\">None</td>  <td style=\"text-align:left;\">String</td>  <td style=\"max-width: 300px;\"><i>nullable</i></td></tr>\n",
       "<tr>  <td><p style=\"margin-bottom: 0px;\" class=\"param-doc-tooltip\" data-tooltip=\"Selection among stored Ref configurations by ID\">refID</p></td>  <td style=\"max-width: 200px; text-align:left;\">None</td>  <td style=\"text-align:left;\">OptionalSelector</td>  <td style=\"max-width: 300px;\"><i>nullable</i> 'exploration.30controls'</td></tr>\n",
       "<tr>  <td><p style=\"margin-bottom: 0px;\" class=\"param-doc-tooltip\" data-tooltip=\"Whether to only replay a defined temporal slice of the dataset.\">time_range</p></td>  <td style=\"max-width: 200px; text-align:left;\">None</td>  <td style=\"text-align:left;\">OptionalPositiveRange</td>  <td style=\"max-width: 300px;\"><i>nullable</i> >=0.0</td></tr>\n",
       "<tr>  <td><p style=\"margin-bottom: 0px;\" class=\"param-doc-tooltip\" data-tooltip=\"The midline point to use for defining the larva position.\">track_point</p></td>  <td style=\"max-width: 200px; text-align:left;\">-1</td>  <td style=\"text-align:left;\">Integer</td>  <td style=\"max-width: 300px;\"></td></tr>\n",
       "<tr>  <td><p style=\"margin-bottom: 0px;\" class=\"param-doc-tooltip\" data-tooltip=\"Whether to transpose the dataset spatial coordinates.\">transposition</p></td>  <td style=\"max-width: 200px; text-align:left;\">None</td>  <td style=\"text-align:left;\">OptionalSelector</td>  <td style=\"max-width: 300px;\"><i>nullable</i> 'origin', 'arena', 'center'</td></tr>\n",
       "\n",
       "  </table>\n",
       " </div>\n",
       "</details>\n"
      ],
      "text/plain": [
       "<param.parameterized.Parameters at 0x7f92f914eaf0>"
      ]
     },
     "execution_count": 4,
     "metadata": {},
     "output_type": "execute_result"
    },
    {
     "name": "stdout",
     "output_type": "stream",
     "text": [
      "\u001b[1;32mParameters of 'ReplayConf'\n",
      "==========================\n",
      "\u001b[0m\n",
      "\u001b[1;31mParameters changed from their default values are marked in red.\u001b[0m\n",
      "\u001b[1;36mSoft bound values are marked in cyan.\u001b[0m\n",
      "C/V= Constant/Variable, RO/RW = ReadOnly/ReadWrite, AN=Allow None\n",
      "\n",
      "\u001b[1;34mName            Value            Type              Bounds      Mode  \u001b[0m\n",
      "\n",
      "close_view      False          Boolean                         V RW  \n",
      "fix_segment      None      OptionalSelector                  V RW AN \n",
      "fix_point        None  OptionalPositiveInteger    (0,\u001b[1;36m 12\u001b[0m)    V RW AN \n",
      "agent_ids         []             List            (0, None)     V RW  \n",
      "transposition    None      OptionalSelector                  V RW AN \n",
      "track_point       -1           Integer            (\u001b[1;36m-1\u001b[0m,\u001b[1;36m 12\u001b[0m)     V RW  \n",
      "env_params       None      OptionalSelector                  V RW AN \n",
      "refID            None      OptionalSelector                  V RW AN \n",
      "refDir           None           String                       V RW AN \n",
      "time_range       None   OptionalPositiveRange   (0.0, None)  V RW AN \n",
      "overlap_mode    False          Boolean                         V RW  \n",
      "draw_Nsegs       None  OptionalPositiveInteger    (0,\u001b[1;36m 12\u001b[0m)    V RW AN \n",
      "\n",
      "\u001b[1;32mParameter docstrings:\n",
      "=====================\u001b[0m\n",
      "\n",
      "\u001b[1;34mclose_view:    Whether to visualize a small arena on close range.\u001b[0m\n",
      "\u001b[1;31mfix_segment:   Whether to additionally fixate the above or below body segment.\u001b[0m\n",
      "\u001b[1;34mfix_point:     Whether to fixate a specific midline point to the center of the screen. Relevant when replaying a single larva track.\u001b[0m\n",
      "\u001b[1;31magent_ids:     Whether to only display some larvae of the dataset, defined by their indexes.\u001b[0m\n",
      "\u001b[1;34mtransposition: Whether to transpose the dataset spatial coordinates.\u001b[0m\n",
      "\u001b[1;31mtrack_point:   The midline point to use for defining the larva position.\u001b[0m\n",
      "\u001b[1;34menv_params:    Selection among stored Env configurations by ID\u001b[0m\n",
      "\u001b[1;31mrefID:         Selection among stored Ref configurations by ID\u001b[0m\n",
      "\u001b[1;34mrefDir:        < No docstring available >\u001b[0m\n",
      "\u001b[1;31mtime_range:    Whether to only replay a defined temporal slice of the dataset.\u001b[0m\n",
      "\u001b[1;34moverlap_mode:  Whether to draw overlapped image of the track.\u001b[0m\n",
      "\u001b[1;31mdraw_Nsegs:    Whether to artificially simplify the experimentally tracked larva body to a segmented virtual body of the given number of segments.\u001b[0m"
     ]
    }
   ],
   "source": [
    "# Show the attributes of the ReplayConf class\n",
    "%params ReplayConf\n",
    "\n",
    "# Show the attributes of the ReplayConf class as a nested dictionary\n",
    "ReplayConf.param"
   ]
  },
  {
   "cell_type": "markdown",
   "metadata": {},
   "source": [
    "Now we will specify the dataset to be reconstructed by its unique ID.\n",
    "\n",
    "It is also possible to locate it by the directory where it is stored "
   ]
  },
  {
   "cell_type": "code",
   "execution_count": null,
   "metadata": {},
   "outputs": [],
   "source": [
    "refID = reg.default_refID\n",
    "# refID = 'Rehydration/AttP2.Deprived'\n",
    "# refID = 'exploration.dish'\n",
    "# refID = reg.default_refID\n",
    "# refID = 'naive_locomotion.20controls'\n",
    "# refID = 'exploration.150controls'\n",
    "d = reg.loadRef(refID)"
   ]
  },
  {
   "cell_type": "markdown",
   "metadata": {},
   "source": [
    "We will specify a number of configuration sets as dictionaries :"
   ]
  },
  {
   "cell_type": "code",
   "execution_count": null,
   "metadata": {},
   "outputs": [],
   "source": [
    "replay_confs = [\n",
    "    (\"normal\", {\"time_range\": (40, 60)}),\n",
    "    (\"dispersal\", {\"transposition\": \"origin\", \"time_range\": (0, 20)}),\n",
    "    (\n",
    "        \"fixed_point\",\n",
    "        {\n",
    "            \"agent_ids\": [0],\n",
    "            \"close_view\": True,\n",
    "            \"fix_point\": 6,\n",
    "            \"time_range\": (80, 100),\n",
    "        },\n",
    "    ),\n",
    "    (\n",
    "        \"fixed_segment\",\n",
    "        {\n",
    "            \"agent_ids\": [0],\n",
    "            \"close_view\": True,\n",
    "            \"fix_point\": 6,\n",
    "            \"fix_segment\": \"rear\",\n",
    "            \"time_range\": (100, 130),\n",
    "        },\n",
    "    ),\n",
    "    (\n",
    "        \"fixed_overlap\",\n",
    "        {\n",
    "            \"agent_ids\": [0],\n",
    "            \"close_view\": True,\n",
    "            \"fix_point\": 6,\n",
    "            \"fix_segment\": \"front\",\n",
    "            \"overlap_mode\": True,\n",
    "        },\n",
    "    ),\n",
    "    (\"2segs\", {\"draw_Nsegs\": 2, \"time_range\": (80, 100)}),\n",
    "    (\"all_segs\", {\"draw_Nsegs\": 11, \"time_range\": (80, 100)}),\n",
    "]"
   ]
  },
  {
   "cell_type": "code",
   "execution_count": null,
   "metadata": {},
   "outputs": [],
   "source": [
    "# A method that runs the replay simulation\n",
    "def run_replay(mode):\n",
    "    rep = ReplayRun(\n",
    "        parameters=ReplayConf(refID=refID, **replay_confs[mode]).nestedConf,\n",
    "        id=f\"{refID}_replay_{mode}\",\n",
    "        dir=f\"./media/{mode}\",\n",
    "        screen_kws={\"vis_mode\": \"video\", \"show_display\": True},\n",
    "    )\n",
    "    _ = rep.run()"
   ]
  },
  {
   "cell_type": "code",
   "execution_count": null,
   "metadata": {},
   "outputs": [],
   "source": [
    "# Run a normal replay of the dataset\n",
    "run_replay(\"normal\")"
   ]
  },
  {
   "cell_type": "code",
   "execution_count": null,
   "metadata": {},
   "outputs": [],
   "source": [
    "# Run a reconstructed dispersal experiment where trajectories have benn transposed to the origin\n",
    "run_replay(\"dispersal\")"
   ]
  },
  {
   "cell_type": "code",
   "execution_count": null,
   "metadata": {},
   "outputs": [],
   "source": [
    "# Substitute the larva body contour by a bisegmental body\n",
    "run_replay(\"2segs\")"
   ]
  },
  {
   "cell_type": "code",
   "execution_count": null,
   "metadata": {},
   "outputs": [],
   "source": [
    "# ... or by a body with all segments, making use of all the midline points available\n",
    "run_replay(\"all_segs\")"
   ]
  },
  {
   "cell_type": "code",
   "execution_count": null,
   "metadata": {},
   "outputs": [],
   "source": [
    "# Now let's examine a single individual. Fixate a midline point of the larva body to the arena center\n",
    "run_replay(\"fixed_point\")"
   ]
  },
  {
   "cell_type": "code",
   "execution_count": null,
   "metadata": {},
   "outputs": [],
   "source": [
    "# Now fixate a midline segment along the y axis\n",
    "run_replay(\"fixed_segment\")"
   ]
  },
  {
   "cell_type": "code",
   "execution_count": null,
   "metadata": {},
   "outputs": [],
   "source": [
    "# And collapse the entire video to a single image to visualize the flexibility of each segment\n",
    "run_replay(\"fixed_overlap\")"
   ]
  }
 ],
 "metadata": {
  "kernelspec": {
   "display_name": "larvaworld_autoversioning",
   "language": "python",
   "name": "python3"
  },
  "language_info": {
   "codemirror_mode": {
    "name": "ipython",
    "version": 3
   },
   "file_extension": ".py",
   "mimetype": "text/x-python",
   "name": "python",
   "nbconvert_exporter": "python",
   "pygments_lexer": "ipython3",
   "version": "3.8.13"
  }
 },
 "nbformat": 4,
 "nbformat_minor": 4
}
