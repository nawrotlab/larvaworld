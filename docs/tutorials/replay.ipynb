{
 "cells": [
  {
   "cell_type": "markdown",
   "metadata": {},
   "source": [
    "# Replaying experiments\n",
    "\n"
   ]
  },
  {
   "cell_type": "markdown",
   "metadata": {},
   "source": [
    "Initialize the larvaworld registry. This loads some components from disc and builds the rest on the fly."
   ]
  },
  {
   "cell_type": "code",
   "execution_count": null,
   "metadata": {},
   "outputs": [],
   "source": [
    "import larvaworld\n",
    "from larvaworld.lib import reg, util\n",
    "from larvaworld.lib.sim import ReplayRun\n",
    "\n",
    "larvaworld.VERBOSE = 1"
   ]
  },
  {
   "cell_type": "code",
   "execution_count": null,
   "metadata": {},
   "outputs": [],
   "source": [
    "refID = reg.default_refID\n",
    "# refID = 'Rehydration/AttP2.Deprived'\n",
    "# refID = 'exploration.dish'\n",
    "# refID = reg.default_refID\n",
    "# refID = 'naive_locomotion.20controls'\n",
    "# refID = 'exploration.150controls'\n",
    "d = reg.loadRef(refID)"
   ]
  },
  {
   "cell_type": "code",
   "execution_count": 3,
   "metadata": {},
   "outputs": [],
   "source": [
    "def getConf(m, **kwargs):\n",
    "    replay_kws = {\n",
    "        \"2segs\": {\"draw_Nsegs\": 2},\n",
    "        \"all_segs\": {\"draw_Nsegs\": \"all\"},\n",
    "        \"normal\": {\"time_range\": (10, 70)},\n",
    "        \"dispersal\": {\"transposition\": \"origin\", \"time_range\": (30, 130)},\n",
    "        \"fixed_point\": {\n",
    "            # 'id':f'{refID}_replay_solo_fixed_point',\n",
    "            \"agent_ids\": [1],\n",
    "            \"close_view\": True,\n",
    "            \"fix_point\": 6,\n",
    "        },\n",
    "        \"fixed_segment\": {\n",
    "            # 'id':f'{refID}_replay_solo_fixed_point',\n",
    "            \"agent_ids\": [1],\n",
    "            \"close_view\": True,\n",
    "            \"fix_point\": 6,\n",
    "            \"fix_segment\": \"rear\",\n",
    "        },\n",
    "        \"fixed_overlap\": {\n",
    "            # 'id':f'{refID}_replay_solo_fixed_point',\n",
    "            \"agent_ids\": [1],\n",
    "            \"close_view\": True,\n",
    "            \"fix_point\": 6,\n",
    "            \"fix_segment\": \"rear\",\n",
    "            \"overlap_mode\": True,\n",
    "        },\n",
    "    }\n",
    "    return reg.gen.Replay(\n",
    "        **util.AttrDict(\n",
    "            {\n",
    "                **kwargs,\n",
    "                #'experiment':'replay',\n",
    "                #'refDataset' : d,\n",
    "                **replay_kws[m],\n",
    "            }\n",
    "        )\n",
    "    ).nestedConf"
   ]
  },
  {
   "cell_type": "code",
   "execution_count": null,
   "metadata": {},
   "outputs": [],
   "source": [
    "# mode = '2segs'\n",
    "# mode = 'fixed_overlap'\n",
    "# mode = 'all_segs'\n",
    "mode = \"fixed_point\"\n",
    "\n",
    "\n",
    "rep = ReplayRun(\n",
    "    parameters=getConf(m=mode, refID=refID),\n",
    "    experiment=\"replay\",\n",
    "    dataset=d,\n",
    "    id=f\"{refID}_replay_{mode}\",\n",
    "    dir=f\"./media/{mode}\",\n",
    "    screen_kws={\"vis_mode\": \"video\", \"show_display\": True},\n",
    ")\n",
    "output = rep.run()"
   ]
  },
  {
   "cell_type": "code",
   "execution_count": null,
   "metadata": {},
   "outputs": [],
   "source": [
    "d.load()\n",
    "d.enrich(proc_keys=[\"angular\", \"spatial\"])\n",
    "s, e, c = d.data\n",
    "s.dtypes"
   ]
  },
  {
   "cell_type": "code",
   "execution_count": null,
   "metadata": {},
   "outputs": [],
   "source": []
  }
 ],
 "metadata": {
  "kernelspec": {
   "display_name": "larvaworld_venv_new",
   "language": "python",
   "name": "larvaworld_venv_new"
  },
  "language_info": {
   "codemirror_mode": {
    "name": "ipython",
    "version": 3
   },
   "file_extension": ".py",
   "mimetype": "text/x-python",
   "name": "python",
   "nbconvert_exporter": "python",
   "pygments_lexer": "ipython3",
   "version": "3.10.12"
  }
 },
 "nbformat": 4,
 "nbformat_minor": 4
}
