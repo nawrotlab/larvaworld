{
 "cells": [
  {
   "cell_type": "markdown",
   "metadata": {},
   "source": [
    "## Genetic algorithm optimization\n",
    "\n",
    "In this tutorial, we will demonstrate how to use the genetic algorithm (GA) optimization functionality in larvaworld, plus we will have a look on how it operates behind the scenes. \n",
    "\n",
    "Here is a definition : \n",
    "The GA will optimize an existing larva model by adjusting some set of its parameters within a defined space in order to generate behavior resembling as close as possible some reference experimental dataset according to some defined evaluation metrics.\n",
    "\n",
    "This sounds rather complex, so we will break it down!\n",
    "\n",
    "Let's import the relevant classes :"
   ]
  },
  {
   "cell_type": "code",
   "execution_count": null,
   "metadata": {},
   "outputs": [],
   "source": [
    "%load_ext param.ipython\n",
    "import panel as pn\n",
    "\n",
    "from larvaworld.lib import reg\n",
    "from larvaworld.lib.sim.genetic_algorithm import (\n",
    "    GAevaluation,\n",
    "    GAselector,\n",
    "    GAlauncher,\n",
    "    GAconf,\n",
    ")\n",
    "from larvaworld.lib.model.modules.module_modes import SpaceDict"
   ]
  },
  {
   "cell_type": "markdown",
   "metadata": {},
   "source": [
    "A look at the GA configuration class makes it easy to get an idea of the involved arguments.\n",
    "\n",
    "Leaving aside the general simulation arguments and the environment configuration we will focus on the GA evaluation and selection configurations. \n",
    "\n",
    "BTW one of the preconfigured GA experiments can be called via the *experiment* argument."
   ]
  },
  {
   "cell_type": "code",
   "execution_count": null,
   "metadata": {},
   "outputs": [],
   "source": [
    "# Show the attributes of the GAlauncher class\n",
    "%params GAconf\n",
    "\n",
    "# Show the attributes of the GAlauncher class as a nested dictionary\n",
    "GAconf.param"
   ]
  },
  {
   "cell_type": "markdown",
   "metadata": {},
   "source": [
    "The optimization target of the GA is an already existing larva model, stored in the Model configuration database under a unique ID. It is provided as an argument to the GA during initialization.\n",
    "\n",
    "The fields of this model that should be used to create the parameter optimization space are also provided by the respective module names.\n",
    "\n",
    "The creation and management of the parameter space is done via a dedicated class"
   ]
  },
  {
   "cell_type": "code",
   "execution_count": null,
   "metadata": {},
   "outputs": [],
   "source": [
    "# Show the attributes of the SpaceDict class\n",
    "%params SpaceDict\n",
    "\n",
    "# Show the attributes of the SpaceDict class as a nested dictionary\n",
    "SpaceDict.param"
   ]
  },
  {
   "cell_type": "code",
   "execution_count": null,
   "metadata": {},
   "outputs": [],
   "source": [
    "# Create a SpaceDict object\n",
    "space_dict = SpaceDict(base_model=\"explorer\", space_mkeys=[\"interference\", \"crawler\"])"
   ]
  },
  {
   "cell_type": "markdown",
   "metadata": {},
   "source": [
    "Alongside the above parameters that define the optimization space, the GAselector class manages the number and size of the GA's generations and the selection algorithm that governs the creation of each subsuquent generation from the previous."
   ]
  },
  {
   "cell_type": "code",
   "execution_count": null,
   "metadata": {},
   "outputs": [],
   "source": [
    "# Show the attributes of the GAselector class\n",
    "%params GAselector\n",
    "\n",
    "# Show the attributes of the GAselector class as a nested dictionary\n",
    "GAselector.param"
   ]
  },
  {
   "cell_type": "markdown",
   "metadata": {},
   "source": [
    "We are now turning to the other crucial set of arguments for the GA, namely the reference dataset and evaluation process.\n",
    "\n",
    "The reference dataset should be selected either via a reference ID or via the directory where it is located.\n",
    "\n",
    "The evaluation process is specified via a number of evaluation metrics, meaning kinematic angular, translational or temporal parameters that will be used to evaluate the behavior of each virtual larva against the reference dataset. Additionally there is the option of trying to fit some parameters of the stride-cycle curve.\n",
    "\n",
    "All these are collectively referred to as GA evaluation arguments :"
   ]
  },
  {
   "cell_type": "code",
   "execution_count": null,
   "metadata": {},
   "outputs": [],
   "source": [
    "# Show the attributes of the GAevaluation class\n",
    "%params GAevaluation\n",
    "\n",
    "# Show the attributes of the GAevaluation class as a nested dictionary\n",
    "GAevaluation.param"
   ]
  },
  {
   "cell_type": "markdown",
   "metadata": {},
   "source": [
    "Finally, we can create a GAlauncher object and run the genetic algorithm. \n",
    "\n",
    "Here we will make use of a stored GA configuration and just adjust some of its parameters.\n",
    "\n",
    "The simulation returns a dictionary containing the optimization space, fitness achieved and best genome "
   ]
  },
  {
   "cell_type": "code",
   "execution_count": null,
   "metadata": {},
   "outputs": [],
   "source": [
    "# A pre-defined GA experiment\n",
    "exp = \"realism\"\n",
    "\n",
    "# Create a GAlauncher object, passing the experiment ID as an argument, along with any general simulation parameters\n",
    "ga1 = GAlauncher(experiment=exp, duration=0.5)\n",
    "\n",
    "# Modify some GA selection parameters\n",
    "ga1.selector.Ngenerations = 3\n",
    "ga1.selector.Nagents = 20\n",
    "\n",
    "# Launch the GA simulation\n",
    "best1 = ga1.simulate()\n",
    "\n",
    "# Inspect the optimization results\n",
    "best1.keylist\n",
    "\n",
    "# The optimized larva-model\n",
    "best1.mConf.print()"
   ]
  },
  {
   "cell_type": "markdown",
   "metadata": {},
   "source": [
    "Alternatively the stored GA configuration can be retrieved and modified before providing it to the launcher.\n",
    "\n",
    "In this case the parameters argument is used.\n",
    "\n",
    "Additionally here the simulation is visualized."
   ]
  },
  {
   "cell_type": "code",
   "execution_count": null,
   "metadata": {},
   "outputs": [],
   "source": [
    "# A pre-defined GA experiment\n",
    "exp = \"realism\"\n",
    "\n",
    "# Retrieve the stored configuration\n",
    "p = reg.conf.Ga.expand(exp)\n",
    "\n",
    "# Modify some GA selection parameters\n",
    "p.ga_select_kws.Ngenerations = 3\n",
    "p.ga_select_kws.Nagents = 20\n",
    "\n",
    "# Launch the GA simulation, with visualization\n",
    "ga2 = GAlauncher(\n",
    "    parameters=p, duration=0.5, screen_kws={\"show_display\": True, \"vis_mode\": \"video\"}\n",
    ")\n",
    "best2 = ga2.simulate()\n",
    "\n",
    "# Inspect the optimization results\n",
    "best2.keylist\n",
    "\n",
    "# The optimized larva-model\n",
    "best2.mConf.print()"
   ]
  },
  {
   "cell_type": "markdown",
   "metadata": {},
   "source": []
  }
 ],
 "metadata": {
  "kernelspec": {
   "display_name": "larvaworld_autoversioning",
   "language": "python",
   "name": "python3"
  },
  "language_info": {
   "codemirror_mode": {
    "name": "ipython",
    "version": 3
   },
   "file_extension": ".py",
   "mimetype": "text/x-python",
   "name": "python",
   "nbconvert_exporter": "python",
   "pygments_lexer": "ipython3",
   "version": "3.8.13"
  }
 },
 "nbformat": 4,
 "nbformat_minor": 2
}
