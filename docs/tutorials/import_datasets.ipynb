{
 "cells": [
  {
   "cell_type": "markdown",
   "metadata": {},
   "source": [
    "# Importing experimental data\n",
    "\n",
    "Raw data can be of diverse lab-specific formats"
   ]
  },
  {
   "cell_type": "code",
   "execution_count": null,
   "metadata": {},
   "outputs": [],
   "source": [
    "%load_ext param.ipython\n",
    "import panel as pn"
   ]
  },
  {
   "cell_type": "markdown",
   "metadata": {},
   "source": [
    "Initialize the larvaworld registry. This loads some components from disc and builds the rest on the fly.\n",
    "\n",
    "We also set VERBOSE=1 to get more info"
   ]
  },
  {
   "cell_type": "code",
   "execution_count": null,
   "metadata": {},
   "outputs": [],
   "source": [
    "import larvaworld\n",
    "from larvaworld.lib import reg\n",
    "\n",
    "larvaworld.VERBOSE = 1"
   ]
  },
  {
   "cell_type": "markdown",
   "metadata": {},
   "source": [
    "We will start with the *LabFormat* class which supports importing lab-specific data formats"
   ]
  },
  {
   "cell_type": "code",
   "execution_count": null,
   "metadata": {
    "scrolled": true
   },
   "outputs": [],
   "source": [
    "from larvaworld.lib.reg.generators import LabFormat\n",
    "\n",
    "%params LabFormat"
   ]
  },
  {
   "cell_type": "markdown",
   "metadata": {},
   "source": [
    "Let's generate a new instance"
   ]
  },
  {
   "cell_type": "code",
   "execution_count": null,
   "metadata": {},
   "outputs": [],
   "source": [
    "lf_new = LabFormat(labID=\"MyLab\")\n",
    "print(f\"An instance of {lf_new.__class__}\")\n",
    "\n",
    "\n",
    "%params lf_new"
   ]
  },
  {
   "cell_type": "markdown",
   "metadata": {},
   "source": [
    "Stored instances of the *LabFormat* class are available through the configuration registry.\n",
    "\n",
    "The registry is retrieved from a dictionary of registry objects by the *LabFormat* key."
   ]
  },
  {
   "cell_type": "code",
   "execution_count": 5,
   "metadata": {},
   "outputs": [],
   "source": [
    "LFreg = reg.conf.LabFormat"
   ]
  },
  {
   "cell_type": "markdown",
   "metadata": {},
   "source": [
    "Each lab-specific data-format configuration is stored in the registry's dictionary under a unique ID.\n",
    "\n",
    "Let's print the IDs"
   ]
  },
  {
   "cell_type": "code",
   "execution_count": null,
   "metadata": {},
   "outputs": [],
   "source": [
    "lfIDs = LFreg.confIDs\n",
    "print(f\"The IDs of the stored configurations of LabFormat class are :{lfIDs}\")\n",
    "\n",
    "# The registry is supported by a nested dictionary :\n",
    "LFdict = LFreg.dict\n",
    "\n",
    "# The path where the dictionary is stored:\n",
    "print(LFreg.path_to_dict)\n",
    "\n",
    "\n",
    "# The configuration IDs are the keys. They correspond to a nested dictionary :\n",
    "lfID = lfIDs[0]\n",
    "lf0_entry = LFdict[lfID]\n",
    "print()\n",
    "print(f\"An instance of {lf0_entry.__class__}\")\n",
    "\n",
    "# The configuration dictionary can be retrieved directly by :\n",
    "lf0_entry2 = LFreg.getID(lfID)\n",
    "print()\n",
    "print(lf0_entry == lf0_entry2)"
   ]
  },
  {
   "cell_type": "code",
   "execution_count": null,
   "metadata": {},
   "outputs": [],
   "source": [
    "# The configuration object can be retrieved directly by :\n",
    "lf0 = LFreg.get(lfID)\n",
    "print(f\"The object under the ID : {lfID} is an instance of {lf0.__class__}\")\n",
    "print()\n",
    "\n",
    "%params lf0"
   ]
  },
  {
   "cell_type": "code",
   "execution_count": null,
   "metadata": {},
   "outputs": [],
   "source": [
    "pn.Param(lf0)"
   ]
  },
  {
   "cell_type": "code",
   "execution_count": null,
   "metadata": {},
   "outputs": [],
   "source": [
    "# The configuration dictionary can be retrieved directly from the object :\n",
    "lf0_entry3 = lf0.nestedConf\n",
    "\n",
    "# As well as the parameter keys\n",
    "print(lf0.param_keys)\n",
    "print()\n",
    "\n",
    "# The path where the lab data are stored:\n",
    "print(lf0.path)\n",
    "# print(lf0.raw_folder)"
   ]
  },
  {
   "cell_type": "markdown",
   "metadata": {},
   "source": [
    "import"
   ]
  },
  {
   "cell_type": "code",
   "execution_count": null,
   "metadata": {},
   "outputs": [],
   "source": [
    "id = \"Schleyer\"\n",
    "Schleyer_lf = LFreg.get(id)\n",
    "# print(Schleyer_lf.labID)\n",
    "# print(LFentry.tracker)\n",
    "\n",
    "%params Schleyer_lf.tracker"
   ]
  },
  {
   "cell_type": "code",
   "execution_count": null,
   "metadata": {},
   "outputs": [],
   "source": []
  },
  {
   "cell_type": "code",
   "execution_count": 11,
   "metadata": {},
   "outputs": [],
   "source": [
    "kws0 = {\n",
    "    #'labID': 'Schleyer',\n",
    "    \"group_id\": \"exploration\",\n",
    "}\n",
    "\n",
    "# Merged case\n",
    "N = 40\n",
    "kws1 = {\n",
    "    \"parent_dir\": \"exploration\",\n",
    "    \"merged\": True,\n",
    "    \"N\": N,\n",
    "    \"min_duration_in_sec\": 120,\n",
    "    \"refID\": f\"exploration.{N}controls\",\n",
    "    **kws0,\n",
    "}\n",
    "\n",
    "# Single dish case\n",
    "folder = \"dish01\"\n",
    "kws2 = {\n",
    "    \"parent_dir\": f\"exploration/{folder}\",\n",
    "    # 'merged': False,\n",
    "    # 'N': None,\n",
    "    \"min_duration_in_sec\": 90,\n",
    "    \"id\": folder,\n",
    "    \"refID\": f\"exploration.{folder}\",\n",
    "    **kws0,\n",
    "}"
   ]
  },
  {
   "cell_type": "code",
   "execution_count": null,
   "metadata": {},
   "outputs": [],
   "source": [
    "d1 = Schleyer_lf.import_dataset(**kws1)\n",
    "d2 = Schleyer_lf.import_dataset(**kws2)\n",
    "\n",
    "print()\n",
    "print(f\"The object having the ID : {d1.id} is an instance of {d1.__class__}\")"
   ]
  },
  {
   "cell_type": "code",
   "execution_count": null,
   "metadata": {},
   "outputs": [],
   "source": [
    "s, e, c = d1.data\n",
    "\n",
    "# Timeseries df\n",
    "s.head()"
   ]
  },
  {
   "cell_type": "code",
   "execution_count": null,
   "metadata": {},
   "outputs": [],
   "source": [
    "# Endpoint df\n",
    "e"
   ]
  },
  {
   "cell_type": "code",
   "execution_count": null,
   "metadata": {},
   "outputs": [],
   "source": [
    "# Dataset metadata/configuration\n",
    "print(f\"The dataset configuration is an instance of {c.__class__}\")\n",
    "\n",
    "print(c.param_keys)"
   ]
  },
  {
   "cell_type": "code",
   "execution_count": null,
   "metadata": {},
   "outputs": [],
   "source": [
    "%params reg.gen.LabFormat"
   ]
  },
  {
   "cell_type": "code",
   "execution_count": null,
   "metadata": {},
   "outputs": [],
   "source": [
    "# s = s.astype(float)\n",
    "s.dtypes"
   ]
  },
  {
   "cell_type": "code",
   "execution_count": null,
   "metadata": {},
   "outputs": [],
   "source": []
  },
  {
   "cell_type": "code",
   "execution_count": null,
   "metadata": {},
   "outputs": [],
   "source": []
  }
 ],
 "metadata": {
  "kernelspec": {
   "display_name": "larvaworld_venv_new",
   "language": "python",
   "name": "larvaworld_venv_new"
  },
  "language_info": {
   "codemirror_mode": {
    "name": "ipython",
    "version": 3
   },
   "file_extension": ".py",
   "mimetype": "text/x-python",
   "name": "python",
   "nbconvert_exporter": "python",
   "pygments_lexer": "ipython3",
   "version": "3.10.12"
  }
 },
 "nbformat": 4,
 "nbformat_minor": 4
}
