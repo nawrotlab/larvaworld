{
 "cells": [
  {
   "cell_type": "markdown",
   "metadata": {},
   "source": [
    "# Importing experimental data\n",
    "\n",
    "This notebook illustrates the import of experimental data in *larvaworld* and the supporting classes and configuration structure."
   ]
  },
  {
   "cell_type": "markdown",
   "metadata": {},
   "source": [
    "Initialize the larvaworld registry. This loads some components from disc and builds the rest on the fly.\n",
    "\n",
    "We also set VERBOSE=1 to get more info"
   ]
  },
  {
   "cell_type": "code",
   "execution_count": null,
   "metadata": {},
   "outputs": [],
   "source": [
    "%load_ext param.ipython\n",
    "import panel as pn\n",
    "pn.extension()\n",
    "\n",
    "# You might have to install this module to run pn.Param\n",
    "# !pip install jupyter_bokeh\n",
    "\n",
    "import larvaworld\n",
    "from larvaworld.lib import reg\n",
    "\n",
    "larvaworld.VERBOSE = 1"
   ]
  },
  {
   "cell_type": "markdown",
   "metadata": {},
   "source": [
    "Raw data can be of diverse lab-specific formats. We will start with the *LabFormat* class which supports them."
   ]
  },
  {
   "cell_type": "code",
   "execution_count": null,
   "metadata": {
    "scrolled": true
   },
   "outputs": [],
   "source": [
    "from larvaworld.lib.reg.generators import LabFormat\n",
    "\n",
    "%params LabFormat"
   ]
  },
  {
   "cell_type": "markdown",
   "metadata": {},
   "source": [
    "Let's generate a new instance"
   ]
  },
  {
   "cell_type": "code",
   "execution_count": null,
   "metadata": {},
   "outputs": [],
   "source": [
    "lf_new = LabFormat(labID=\"MyLab\")\n",
    "print(f\"An instance of {lf_new.__class__}\")\n",
    "\n",
    "\n",
    "%params lf_new"
   ]
  },
  {
   "cell_type": "markdown",
   "metadata": {},
   "source": [
    "Stored instances of the *LabFormat* class are available through the configuration registry.\n",
    "\n",
    "The registry is retrieved from a dictionary of registry objects by the *LabFormat* key."
   ]
  },
  {
   "cell_type": "code",
   "execution_count": 4,
   "metadata": {},
   "outputs": [],
   "source": [
    "LFreg = reg.conf.LabFormat"
   ]
  },
  {
   "cell_type": "markdown",
   "metadata": {},
   "source": [
    "Each lab-specific data-format configuration is stored in the registry's dictionary under a unique ID.\n",
    "\n",
    "Let's print the IDs"
   ]
  },
  {
   "cell_type": "code",
   "execution_count": null,
   "metadata": {},
   "outputs": [],
   "source": [
    "lfIDs = LFreg.confIDs\n",
    "print(f\"The IDs of the stored configurations of LabFormat class are :{lfIDs}\")\n",
    "\n",
    "# The registry is supported by a nested dictionary :\n",
    "LFdict = LFreg.dict\n",
    "\n",
    "# The path where the dictionary is stored:\n",
    "print(LFreg.path_to_dict)\n",
    "\n",
    "\n",
    "# The configuration IDs are the keys. They correspond to a nested dictionary :\n",
    "lfID = lfIDs[0]\n",
    "lf0_entry = LFdict[lfID]\n",
    "print()\n",
    "print(f\"An instance of {lf0_entry.__class__.__name__}\")\n",
    "\n",
    "# The configuration dictionary can be retrieved directly by :\n",
    "lf0_entry2 = LFreg.getID(lfID)\n",
    "print()\n",
    "print(lf0_entry == lf0_entry2)"
   ]
  },
  {
   "cell_type": "code",
   "execution_count": null,
   "metadata": {},
   "outputs": [],
   "source": [
    "# The configuration object can be retrieved directly by :\n",
    "lf0 = LFreg.get(lfID)\n",
    "print(f\"The object under the ID : {lfID} is an instance of {lf0.__class__.__name__}\")\n",
    "print()\n",
    "\n",
    "%params lf0"
   ]
  },
  {
   "cell_type": "code",
   "execution_count": null,
   "metadata": {},
   "outputs": [],
   "source": [
    "# The configuration object can be visualized by :\n",
    "pn.Param(lf0)"
   ]
  },
  {
   "cell_type": "code",
   "execution_count": null,
   "metadata": {},
   "outputs": [],
   "source": [
    "# The configuration dictionary can be retrieved directly from the object :\n",
    "lf0_entry3 = lf0.nestedConf\n",
    "\n",
    "# As well as the parameter keys\n",
    "print(lf0.param_keys)\n",
    "print()\n",
    "\n",
    "# The path where the lab data are stored:\n",
    "print(lf0.path)\n",
    "# print(lf0.raw_folder)"
   ]
  },
  {
   "cell_type": "markdown",
   "metadata": {},
   "source": [
    "Let's inspect one specific lab-format configuration"
   ]
  },
  {
   "cell_type": "code",
   "execution_count": null,
   "metadata": {},
   "outputs": [],
   "source": [
    "id = \"Schleyer\"\n",
    "Schleyer_lf = LFreg.get(id)\n",
    "\n",
    "%params Schleyer_lf.tracker"
   ]
  },
  {
   "cell_type": "markdown",
   "metadata": {},
   "source": [
    "Both raw and imported experimental data, as well as the simulated data are stored at a specific location in the filestructure that can be accessed easily. Regarding experimental data, each format has its own dedicated directory :"
   ]
  },
  {
   "cell_type": "code",
   "execution_count": null,
   "metadata": {},
   "outputs": [],
   "source": [
    "print(f\"All data are stored here :\\n{larvaworld.DATA_DIR}\\n\")\n",
    "\n",
    "print(f\"The path to the data of the {id} lab-format :\\n{Schleyer_lf.path}\\n\")\n",
    "\n",
    "print(f\"Raw data to be imported should be stored here (if not otherwise specified) :\\n{Schleyer_lf.raw_folder}\\n\")\n",
    "\n",
    "print(f\"Imported/Processed data will be stored here (if not otherwise specified) :\\n{Schleyer_lf.processed_folder}\")"
   ]
  },
  {
   "cell_type": "markdown",
   "metadata": {},
   "source": [
    "Now we can import some datasets. This means we convert from the native lab-specific data-format to the *larvaworld* format while at the same time filter/select specific entries of the data.\n",
    "\n",
    "Here two cases are illustrated : \n",
    " - Tracks from a single dish\n",
    " - Merged tracks from all dishes inder a certain directory\n",
    "\n",
    "The import returns an instance of *LarvaDataset* that can be then used.\n",
    "\n",
    "By default this is not stored to disc, except if we specify *save_dataset = True*"
   ]
  },
  {
   "cell_type": "markdown",
   "metadata": {},
   "source": []
  },
  {
   "cell_type": "code",
   "execution_count": null,
   "metadata": {},
   "outputs": [],
   "source": [
    "# Single dish case\n",
    "folder = \"dish01\"\n",
    "kws1 = {\n",
    "    \"parent_dir\": f\"exploration/{folder}\",\n",
    "    \"min_duration_in_sec\": 90,\n",
    "    \"id\": folder,\n",
    "    \"refID\": f\"exploration.{folder}\",\n",
    "    \"group_id\": \"exploration\"\n",
    "}\n",
    "\n",
    "d1 = Schleyer_lf.import_dataset(**kws1)"
   ]
  },
  {
   "cell_type": "code",
   "execution_count": null,
   "metadata": {},
   "outputs": [],
   "source": [
    "# Merged case\n",
    "N = 40\n",
    "kws2 = {\n",
    "    \"parent_dir\": \"exploration\",\n",
    "    \"merged\": True,\n",
    "    \"max_Nagents\": N,\n",
    "    \"min_duration_in_sec\": 120,\n",
    "    \"refID\": f\"exploration.{N}controls\",\n",
    "    \"group_id\": \"exploration\",\n",
    "}\n",
    "\n",
    "d2 = Schleyer_lf.import_dataset(**kws2)\n"
   ]
  },
  {
   "cell_type": "code",
   "execution_count": null,
   "metadata": {},
   "outputs": [],
   "source": [
    "print(f\"The import method returns an instance of {d1.__class__.__name__} having the ID : {d1.id}\\n\")\n",
    "\n",
    "s, e, c = d1.data\n",
    "\n",
    "print(\"The timeseries data (dropping NaNs) : \\n\")\n",
    "s.dropna().head()\n",
    "\n",
    "print(\"The endpoint data : \\n\")\n",
    "e"
   ]
  },
  {
   "cell_type": "markdown",
   "metadata": {},
   "source": [
    "Now we will illustrate the import functionality by downloading a publically available dataset of *Drosophila* larva locomotion.\n",
    "\n",
    "Go to the website below, download the zipped file and extract in the lab-specific folder indicated above"
   ]
  },
  {
   "cell_type": "code",
   "execution_count": null,
   "metadata": {},
   "outputs": [],
   "source": [
    "# URL of the repository. Visit for further information.\n",
    "link2repo = \"https://doi.gin.g-node.org/10.12751/g-node.5e1ifd/\"\n",
    "\n",
    "# The name of the zipped file to be downloaded.\n",
    "filename = \"Naive_Locomotion_Drosophila_Larvae.zip\"\n",
    "\n",
    "# URL of the file.\n",
    "link2data = f\"https://gin.g-node.org/MichaelSchleyer/Naive_Locomotion_Drosophila_Larvae/src/master/{filename}\"\n",
    "\n",
    "# Path to extract the downloaded file\n",
    "dirname = \"naive\"\n",
    "print(f\"The path to extract the downloaded file :\\n{Schleyer_lf.raw_folder}/{dirname}\\n\")\n"
   ]
  },
  {
   "cell_type": "code",
   "execution_count": null,
   "metadata": {},
   "outputs": [],
   "source": [
    "# Single dish case\n",
    "folder = \"box1-2017-05-18_14_48_22\"\n",
    "id=\"imported_single_dish\"\n",
    "kws = {\n",
    "    \"parent_dir\": f\"{dirname}/{folder}\",\n",
    "    \"min_duration_in_sec\": 120,\n",
    "    \"id\": id,\n",
    "    \"refID\": f\"{dirname}.{id}\",\n",
    "    \"group_id\": dirname\n",
    "}\n",
    "\n",
    "d6 = Schleyer_lf.import_dataset(**kws)"
   ]
  },
  {
   "cell_type": "markdown",
   "metadata": {},
   "source": []
  },
  {
   "cell_type": "code",
   "execution_count": null,
   "metadata": {},
   "outputs": [],
   "source": [
    "d6.e.cum_dur.sort_values()"
   ]
  },
  {
   "cell_type": "code",
   "execution_count": null,
   "metadata": {},
   "outputs": [],
   "source": [
    "# Merged case\n",
    "N = 50\n",
    "kws2 = {\n",
    "    \"parent_dir\": dirname,\n",
    "    \"merged\": True,\n",
    "    \"max_Nagents\": N,\n",
    "    \"min_duration_in_sec\": 160,\n",
    "    \"refID\": f\"{dirname}.{N}controls\",\n",
    "    \"group_id\": dirname,\n",
    "}\n",
    "\n",
    "d100 = Schleyer_lf.import_dataset(**kws2)\n",
    "\n",
    "d100.e.cum_dur.sort_values()"
   ]
  },
  {
   "cell_type": "code",
   "execution_count": null,
   "metadata": {},
   "outputs": [],
   "source": []
  }
 ],
 "metadata": {
  "kernelspec": {
   "display_name": "larvaworld_autoversioning",
   "language": "python",
   "name": "python3"
  },
  "language_info": {
   "codemirror_mode": {
    "name": "ipython",
    "version": 3
   },
   "file_extension": ".py",
   "mimetype": "text/x-python",
   "name": "python",
   "nbconvert_exporter": "python",
   "pygments_lexer": "ipython3",
   "version": "3.8.13"
  }
 },
 "nbformat": 4,
 "nbformat_minor": 4
}
